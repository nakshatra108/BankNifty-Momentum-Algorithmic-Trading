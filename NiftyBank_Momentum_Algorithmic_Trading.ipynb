{
 "cells": [
  {
   "cell_type": "markdown",
   "metadata": {},
   "source": [
    "# \"Momentum\" Trading Strategy\n",
    "* It is a trend following strategy where the trader go long in an uptrend and go short in a downtrend\n",
    "* This algorithm will develop trading signals for Banknifty Index"
   ]
  },
  {
   "cell_type": "code",
   "execution_count": 67,
   "metadata": {},
   "outputs": [],
   "source": [
    "import numpy as np\n",
    "import pandas as pd\n",
    "import pandas_datareader as pdr\n",
    "import matplotlib.pyplot as plt\n",
    "import yfinance as yf\n"
   ]
  },
  {
   "cell_type": "markdown",
   "metadata": {},
   "source": [
    "### 1. Download data: \n",
    "* Getting the data from Yahoo Finance API"
   ]
  },
  {
   "cell_type": "code",
   "execution_count": 68,
   "metadata": {},
   "outputs": [
    {
     "name": "stderr",
     "output_type": "stream",
     "text": [
      "[*********************100%%**********************]  1 of 1 completed\n"
     ]
    },
    {
     "data": {
      "text/html": [
       "<div>\n",
       "<style scoped>\n",
       "    .dataframe tbody tr th:only-of-type {\n",
       "        vertical-align: middle;\n",
       "    }\n",
       "\n",
       "    .dataframe tbody tr th {\n",
       "        vertical-align: top;\n",
       "    }\n",
       "\n",
       "    .dataframe thead th {\n",
       "        text-align: right;\n",
       "    }\n",
       "</style>\n",
       "<table border=\"1\" class=\"dataframe\">\n",
       "  <thead>\n",
       "    <tr style=\"text-align: right;\">\n",
       "      <th></th>\n",
       "      <th>day</th>\n",
       "      <th>Open</th>\n",
       "      <th>High</th>\n",
       "      <th>Low</th>\n",
       "      <th>Close</th>\n",
       "    </tr>\n",
       "    <tr>\n",
       "      <th>Date</th>\n",
       "      <th></th>\n",
       "      <th></th>\n",
       "      <th></th>\n",
       "      <th></th>\n",
       "      <th></th>\n",
       "    </tr>\n",
       "  </thead>\n",
       "  <tbody>\n",
       "    <tr>\n",
       "      <th>2007-09-17</th>\n",
       "      <td>1</td>\n",
       "      <td>6898.000000</td>\n",
       "      <td>6977.200195</td>\n",
       "      <td>6843.000000</td>\n",
       "      <td>6897.100098</td>\n",
       "    </tr>\n",
       "    <tr>\n",
       "      <th>2007-09-18</th>\n",
       "      <td>2</td>\n",
       "      <td>6921.149902</td>\n",
       "      <td>7078.950195</td>\n",
       "      <td>6883.600098</td>\n",
       "      <td>7059.649902</td>\n",
       "    </tr>\n",
       "    <tr>\n",
       "      <th>2007-09-19</th>\n",
       "      <td>3</td>\n",
       "      <td>7111.000000</td>\n",
       "      <td>7419.350098</td>\n",
       "      <td>7111.000000</td>\n",
       "      <td>7401.850098</td>\n",
       "    </tr>\n",
       "    <tr>\n",
       "      <th>2007-09-20</th>\n",
       "      <td>4</td>\n",
       "      <td>7404.950195</td>\n",
       "      <td>7462.899902</td>\n",
       "      <td>7343.600098</td>\n",
       "      <td>7390.149902</td>\n",
       "    </tr>\n",
       "    <tr>\n",
       "      <th>2007-09-21</th>\n",
       "      <td>5</td>\n",
       "      <td>7378.299805</td>\n",
       "      <td>7506.350098</td>\n",
       "      <td>7367.149902</td>\n",
       "      <td>7464.500000</td>\n",
       "    </tr>\n",
       "  </tbody>\n",
       "</table>\n",
       "</div>"
      ],
      "text/plain": [
       "            day         Open         High          Low        Close\n",
       "Date                                                               \n",
       "2007-09-17    1  6898.000000  6977.200195  6843.000000  6897.100098\n",
       "2007-09-18    2  6921.149902  7078.950195  6883.600098  7059.649902\n",
       "2007-09-19    3  7111.000000  7419.350098  7111.000000  7401.850098\n",
       "2007-09-20    4  7404.950195  7462.899902  7343.600098  7390.149902\n",
       "2007-09-21    5  7378.299805  7506.350098  7367.149902  7464.500000"
      ]
     },
     "execution_count": 68,
     "metadata": {},
     "output_type": "execute_result"
    }
   ],
   "source": [
    "nfb = yf.download('^NSEBANK')\n",
    "day = np.arange(1,len(nfb)+1)\n",
    "nfb['day'] = day\n",
    "nfb.drop(columns=['Adj Close','Volume'], inplace = True)\n",
    "nfb = nfb[['day','Open','High','Low','Close']]\n",
    "nfb.head()"
   ]
  },
  {
   "cell_type": "code",
   "execution_count": 69,
   "metadata": {},
   "outputs": [
    {
     "name": "stdout",
     "output_type": "stream",
     "text": [
      "<class 'pandas.core.frame.DataFrame'>\n",
      "DatetimeIndex: 3766 entries, 2007-09-17 to 2024-03-07\n",
      "Data columns (total 5 columns):\n",
      " #   Column  Non-Null Count  Dtype  \n",
      "---  ------  --------------  -----  \n",
      " 0   day     3766 non-null   int32  \n",
      " 1   Open    3766 non-null   float64\n",
      " 2   High    3766 non-null   float64\n",
      " 3   Low     3766 non-null   float64\n",
      " 4   Close   3766 non-null   float64\n",
      "dtypes: float64(4), int32(1)\n",
      "memory usage: 161.8 KB\n"
     ]
    }
   ],
   "source": [
    "nfb.info()"
   ]
  },
  {
   "cell_type": "markdown",
   "metadata": {},
   "source": [
    "### 2. Add data/transform data\n",
    "* Calculate signal based on statistical action\n",
    "* We are going to use Moving Average Crossover Strategy (9 days and 21 days MA Crossover) to generate Trading Signals"
   ]
  },
  {
   "cell_type": "markdown",
   "metadata": {},
   "source": [
    "#### Add moving averages to the data frame"
   ]
  },
  {
   "cell_type": "code",
   "execution_count": 70,
   "metadata": {},
   "outputs": [
    {
     "name": "stderr",
     "output_type": "stream",
     "text": [
      "C:\\Users\\Nakshatra\\AppData\\Local\\Temp\\ipykernel_17776\\1558874066.py:1: SettingWithCopyWarning: \n",
      "A value is trying to be set on a copy of a slice from a DataFrame.\n",
      "Try using .loc[row_indexer,col_indexer] = value instead\n",
      "\n",
      "See the caveats in the documentation: https://pandas.pydata.org/pandas-docs/stable/user_guide/indexing.html#returning-a-view-versus-a-copy\n",
      "  nfb['9-day'] = nfb['Close'].rolling(9).mean()\n",
      "C:\\Users\\Nakshatra\\AppData\\Local\\Temp\\ipykernel_17776\\1558874066.py:2: SettingWithCopyWarning: \n",
      "A value is trying to be set on a copy of a slice from a DataFrame.\n",
      "Try using .loc[row_indexer,col_indexer] = value instead\n",
      "\n",
      "See the caveats in the documentation: https://pandas.pydata.org/pandas-docs/stable/user_guide/indexing.html#returning-a-view-versus-a-copy\n",
      "  nfb['21-day'] = nfb['Close'].rolling(21).mean()\n"
     ]
    },
    {
     "data": {
      "text/html": [
       "<div>\n",
       "<style scoped>\n",
       "    .dataframe tbody tr th:only-of-type {\n",
       "        vertical-align: middle;\n",
       "    }\n",
       "\n",
       "    .dataframe tbody tr th {\n",
       "        vertical-align: top;\n",
       "    }\n",
       "\n",
       "    .dataframe thead th {\n",
       "        text-align: right;\n",
       "    }\n",
       "</style>\n",
       "<table border=\"1\" class=\"dataframe\">\n",
       "  <thead>\n",
       "    <tr style=\"text-align: right;\">\n",
       "      <th></th>\n",
       "      <th>day</th>\n",
       "      <th>Open</th>\n",
       "      <th>High</th>\n",
       "      <th>Low</th>\n",
       "      <th>Close</th>\n",
       "      <th>9-day</th>\n",
       "      <th>21-day</th>\n",
       "    </tr>\n",
       "    <tr>\n",
       "      <th>Date</th>\n",
       "      <th></th>\n",
       "      <th></th>\n",
       "      <th></th>\n",
       "      <th></th>\n",
       "      <th></th>\n",
       "      <th></th>\n",
       "      <th></th>\n",
       "    </tr>\n",
       "  </thead>\n",
       "  <tbody>\n",
       "    <tr>\n",
       "      <th>2007-10-15</th>\n",
       "      <td>20</td>\n",
       "      <td>7962.549805</td>\n",
       "      <td>8306.349609</td>\n",
       "      <td>7962.549805</td>\n",
       "      <td>8286.299805</td>\n",
       "      <td>7990.116591</td>\n",
       "      <td>NaN</td>\n",
       "    </tr>\n",
       "    <tr>\n",
       "      <th>2007-10-16</th>\n",
       "      <td>21</td>\n",
       "      <td>8361.400391</td>\n",
       "      <td>8491.650391</td>\n",
       "      <td>8240.299805</td>\n",
       "      <td>8452.200195</td>\n",
       "      <td>8029.483290</td>\n",
       "      <td>7784.561872</td>\n",
       "    </tr>\n",
       "    <tr>\n",
       "      <th>2007-10-17</th>\n",
       "      <td>22</td>\n",
       "      <td>8071.549805</td>\n",
       "      <td>8218.099609</td>\n",
       "      <td>7641.500000</td>\n",
       "      <td>8099.899902</td>\n",
       "      <td>8036.594401</td>\n",
       "      <td>7841.838053</td>\n",
       "    </tr>\n",
       "    <tr>\n",
       "      <th>2007-10-18</th>\n",
       "      <td>23</td>\n",
       "      <td>8055.149902</td>\n",
       "      <td>8192.450195</td>\n",
       "      <td>7519.700195</td>\n",
       "      <td>7608.750000</td>\n",
       "      <td>8010.316623</td>\n",
       "      <td>7867.985677</td>\n",
       "    </tr>\n",
       "    <tr>\n",
       "      <th>2007-10-19</th>\n",
       "      <td>24</td>\n",
       "      <td>7637.399902</td>\n",
       "      <td>7718.899902</td>\n",
       "      <td>7279.299805</td>\n",
       "      <td>7423.799805</td>\n",
       "      <td>7987.805501</td>\n",
       "      <td>7869.030901</td>\n",
       "    </tr>\n",
       "    <tr>\n",
       "      <th>2007-10-22</th>\n",
       "      <td>25</td>\n",
       "      <td>7374.350098</td>\n",
       "      <td>7621.649902</td>\n",
       "      <td>7289.200195</td>\n",
       "      <td>7568.000000</td>\n",
       "      <td>7951.377713</td>\n",
       "      <td>7877.499953</td>\n",
       "    </tr>\n",
       "  </tbody>\n",
       "</table>\n",
       "</div>"
      ],
      "text/plain": [
       "            day         Open         High          Low        Close  \\\n",
       "Date                                                                  \n",
       "2007-10-15   20  7962.549805  8306.349609  7962.549805  8286.299805   \n",
       "2007-10-16   21  8361.400391  8491.650391  8240.299805  8452.200195   \n",
       "2007-10-17   22  8071.549805  8218.099609  7641.500000  8099.899902   \n",
       "2007-10-18   23  8055.149902  8192.450195  7519.700195  7608.750000   \n",
       "2007-10-19   24  7637.399902  7718.899902  7279.299805  7423.799805   \n",
       "2007-10-22   25  7374.350098  7621.649902  7289.200195  7568.000000   \n",
       "\n",
       "                  9-day       21-day  \n",
       "Date                                  \n",
       "2007-10-15  7990.116591          NaN  \n",
       "2007-10-16  8029.483290  7784.561872  \n",
       "2007-10-17  8036.594401  7841.838053  \n",
       "2007-10-18  8010.316623  7867.985677  \n",
       "2007-10-19  7987.805501  7869.030901  \n",
       "2007-10-22  7951.377713  7877.499953  "
      ]
     },
     "execution_count": 70,
     "metadata": {},
     "output_type": "execute_result"
    }
   ],
   "source": [
    "nfb['9-day'] = nfb['Close'].rolling(9).mean()\n",
    "nfb['21-day'] = nfb['Close'].rolling(21).mean()\n",
    "nfb[19:25]"
   ]
  },
  {
   "cell_type": "markdown",
   "metadata": {},
   "source": [
    "#### Adding the \"signal\" column  ('1' to Buy, '0' to Sell and '-1' to Short)"
   ]
  },
  {
   "cell_type": "code",
   "execution_count": 71,
   "metadata": {},
   "outputs": [
    {
     "name": "stderr",
     "output_type": "stream",
     "text": [
      "C:\\Users\\Nakshatra\\AppData\\Local\\Temp\\ipykernel_17776\\2380010738.py:1: SettingWithCopyWarning: \n",
      "A value is trying to be set on a copy of a slice from a DataFrame.\n",
      "Try using .loc[row_indexer,col_indexer] = value instead\n",
      "\n",
      "See the caveats in the documentation: https://pandas.pydata.org/pandas-docs/stable/user_guide/indexing.html#returning-a-view-versus-a-copy\n",
      "  nfb['signal'] = np.where(nfb['9-day'] > nfb['21-day'], 1, 0)\n",
      "C:\\Users\\Nakshatra\\AppData\\Local\\Temp\\ipykernel_17776\\2380010738.py:2: SettingWithCopyWarning: \n",
      "A value is trying to be set on a copy of a slice from a DataFrame.\n",
      "Try using .loc[row_indexer,col_indexer] = value instead\n",
      "\n",
      "See the caveats in the documentation: https://pandas.pydata.org/pandas-docs/stable/user_guide/indexing.html#returning-a-view-versus-a-copy\n",
      "  nfb['signal'] = np.where(nfb['9-day'] < nfb['21-day'], -1, nfb['signal'])\n",
      "C:\\Users\\Nakshatra\\AppData\\Local\\Temp\\ipykernel_17776\\2380010738.py:3: SettingWithCopyWarning: \n",
      "A value is trying to be set on a copy of a slice from a DataFrame\n",
      "\n",
      "See the caveats in the documentation: https://pandas.pydata.org/pandas-docs/stable/user_guide/indexing.html#returning-a-view-versus-a-copy\n",
      "  nfb.dropna(inplace=True)\n"
     ]
    },
    {
     "data": {
      "text/html": [
       "<div>\n",
       "<style scoped>\n",
       "    .dataframe tbody tr th:only-of-type {\n",
       "        vertical-align: middle;\n",
       "    }\n",
       "\n",
       "    .dataframe tbody tr th {\n",
       "        vertical-align: top;\n",
       "    }\n",
       "\n",
       "    .dataframe thead th {\n",
       "        text-align: right;\n",
       "    }\n",
       "</style>\n",
       "<table border=\"1\" class=\"dataframe\">\n",
       "  <thead>\n",
       "    <tr style=\"text-align: right;\">\n",
       "      <th></th>\n",
       "      <th>day</th>\n",
       "      <th>Open</th>\n",
       "      <th>High</th>\n",
       "      <th>Low</th>\n",
       "      <th>Close</th>\n",
       "      <th>9-day</th>\n",
       "      <th>21-day</th>\n",
       "      <th>signal</th>\n",
       "    </tr>\n",
       "    <tr>\n",
       "      <th>Date</th>\n",
       "      <th></th>\n",
       "      <th></th>\n",
       "      <th></th>\n",
       "      <th></th>\n",
       "      <th></th>\n",
       "      <th></th>\n",
       "      <th></th>\n",
       "      <th></th>\n",
       "    </tr>\n",
       "  </thead>\n",
       "  <tbody>\n",
       "    <tr>\n",
       "      <th>2007-10-16</th>\n",
       "      <td>21</td>\n",
       "      <td>8361.400391</td>\n",
       "      <td>8491.650391</td>\n",
       "      <td>8240.299805</td>\n",
       "      <td>8452.200195</td>\n",
       "      <td>8029.483290</td>\n",
       "      <td>7784.561872</td>\n",
       "      <td>1</td>\n",
       "    </tr>\n",
       "    <tr>\n",
       "      <th>2007-10-17</th>\n",
       "      <td>22</td>\n",
       "      <td>8071.549805</td>\n",
       "      <td>8218.099609</td>\n",
       "      <td>7641.500000</td>\n",
       "      <td>8099.899902</td>\n",
       "      <td>8036.594401</td>\n",
       "      <td>7841.838053</td>\n",
       "      <td>1</td>\n",
       "    </tr>\n",
       "    <tr>\n",
       "      <th>2007-10-18</th>\n",
       "      <td>23</td>\n",
       "      <td>8055.149902</td>\n",
       "      <td>8192.450195</td>\n",
       "      <td>7519.700195</td>\n",
       "      <td>7608.750000</td>\n",
       "      <td>8010.316623</td>\n",
       "      <td>7867.985677</td>\n",
       "      <td>1</td>\n",
       "    </tr>\n",
       "    <tr>\n",
       "      <th>2007-10-19</th>\n",
       "      <td>24</td>\n",
       "      <td>7637.399902</td>\n",
       "      <td>7718.899902</td>\n",
       "      <td>7279.299805</td>\n",
       "      <td>7423.799805</td>\n",
       "      <td>7987.805501</td>\n",
       "      <td>7869.030901</td>\n",
       "      <td>1</td>\n",
       "    </tr>\n",
       "    <tr>\n",
       "      <th>2007-10-22</th>\n",
       "      <td>25</td>\n",
       "      <td>7374.350098</td>\n",
       "      <td>7621.649902</td>\n",
       "      <td>7289.200195</td>\n",
       "      <td>7568.000000</td>\n",
       "      <td>7951.377713</td>\n",
       "      <td>7877.499953</td>\n",
       "      <td>1</td>\n",
       "    </tr>\n",
       "  </tbody>\n",
       "</table>\n",
       "</div>"
      ],
      "text/plain": [
       "            day         Open         High          Low        Close  \\\n",
       "Date                                                                  \n",
       "2007-10-16   21  8361.400391  8491.650391  8240.299805  8452.200195   \n",
       "2007-10-17   22  8071.549805  8218.099609  7641.500000  8099.899902   \n",
       "2007-10-18   23  8055.149902  8192.450195  7519.700195  7608.750000   \n",
       "2007-10-19   24  7637.399902  7718.899902  7279.299805  7423.799805   \n",
       "2007-10-22   25  7374.350098  7621.649902  7289.200195  7568.000000   \n",
       "\n",
       "                  9-day       21-day  signal  \n",
       "Date                                          \n",
       "2007-10-16  8029.483290  7784.561872       1  \n",
       "2007-10-17  8036.594401  7841.838053       1  \n",
       "2007-10-18  8010.316623  7867.985677       1  \n",
       "2007-10-19  7987.805501  7869.030901       1  \n",
       "2007-10-22  7951.377713  7877.499953       1  "
      ]
     },
     "execution_count": 71,
     "metadata": {},
     "output_type": "execute_result"
    }
   ],
   "source": [
    "nfb['signal'] = np.where(nfb['9-day'] > nfb['21-day'], 1, 0)\n",
    "nfb['signal'] = np.where(nfb['9-day'] < nfb['21-day'], -1, nfb['signal'])\n",
    "nfb.dropna(inplace=True)\n",
    "nfb.head()"
   ]
  },
  {
   "cell_type": "markdown",
   "metadata": {},
   "source": [
    "#### Calculate Instantaneous Returns (System Returns) and Buy & Hold Returns (Return)"
   ]
  },
  {
   "cell_type": "code",
   "execution_count": 72,
   "metadata": {},
   "outputs": [
    {
     "name": "stderr",
     "output_type": "stream",
     "text": [
      "C:\\Users\\Nakshatra\\AppData\\Local\\Temp\\ipykernel_17776\\631030039.py:1: SettingWithCopyWarning: \n",
      "A value is trying to be set on a copy of a slice from a DataFrame.\n",
      "Try using .loc[row_indexer,col_indexer] = value instead\n",
      "\n",
      "See the caveats in the documentation: https://pandas.pydata.org/pandas-docs/stable/user_guide/indexing.html#returning-a-view-versus-a-copy\n",
      "  nfb['return'] = np.log(nfb['Close']).diff()\n",
      "C:\\Users\\Nakshatra\\AppData\\Local\\Temp\\ipykernel_17776\\631030039.py:2: SettingWithCopyWarning: \n",
      "A value is trying to be set on a copy of a slice from a DataFrame.\n",
      "Try using .loc[row_indexer,col_indexer] = value instead\n",
      "\n",
      "See the caveats in the documentation: https://pandas.pydata.org/pandas-docs/stable/user_guide/indexing.html#returning-a-view-versus-a-copy\n",
      "  nfb['system_return'] = nfb['signal'] * nfb['return']\n",
      "C:\\Users\\Nakshatra\\AppData\\Local\\Temp\\ipykernel_17776\\631030039.py:3: SettingWithCopyWarning: \n",
      "A value is trying to be set on a copy of a slice from a DataFrame.\n",
      "Try using .loc[row_indexer,col_indexer] = value instead\n",
      "\n",
      "See the caveats in the documentation: https://pandas.pydata.org/pandas-docs/stable/user_guide/indexing.html#returning-a-view-versus-a-copy\n",
      "  nfb['entry'] = nfb.signal.diff()\n"
     ]
    },
    {
     "data": {
      "text/html": [
       "<div>\n",
       "<style scoped>\n",
       "    .dataframe tbody tr th:only-of-type {\n",
       "        vertical-align: middle;\n",
       "    }\n",
       "\n",
       "    .dataframe tbody tr th {\n",
       "        vertical-align: top;\n",
       "    }\n",
       "\n",
       "    .dataframe thead th {\n",
       "        text-align: right;\n",
       "    }\n",
       "</style>\n",
       "<table border=\"1\" class=\"dataframe\">\n",
       "  <thead>\n",
       "    <tr style=\"text-align: right;\">\n",
       "      <th></th>\n",
       "      <th>day</th>\n",
       "      <th>Open</th>\n",
       "      <th>High</th>\n",
       "      <th>Low</th>\n",
       "      <th>Close</th>\n",
       "      <th>9-day</th>\n",
       "      <th>21-day</th>\n",
       "      <th>signal</th>\n",
       "      <th>return</th>\n",
       "      <th>system_return</th>\n",
       "      <th>entry</th>\n",
       "    </tr>\n",
       "    <tr>\n",
       "      <th>Date</th>\n",
       "      <th></th>\n",
       "      <th></th>\n",
       "      <th></th>\n",
       "      <th></th>\n",
       "      <th></th>\n",
       "      <th></th>\n",
       "      <th></th>\n",
       "      <th></th>\n",
       "      <th></th>\n",
       "      <th></th>\n",
       "      <th></th>\n",
       "    </tr>\n",
       "  </thead>\n",
       "  <tbody>\n",
       "    <tr>\n",
       "      <th>2007-10-16</th>\n",
       "      <td>21</td>\n",
       "      <td>8361.400391</td>\n",
       "      <td>8491.650391</td>\n",
       "      <td>8240.299805</td>\n",
       "      <td>8452.200195</td>\n",
       "      <td>8029.483290</td>\n",
       "      <td>7784.561872</td>\n",
       "      <td>1</td>\n",
       "      <td>NaN</td>\n",
       "      <td>NaN</td>\n",
       "      <td>NaN</td>\n",
       "    </tr>\n",
       "    <tr>\n",
       "      <th>2007-10-17</th>\n",
       "      <td>22</td>\n",
       "      <td>8071.549805</td>\n",
       "      <td>8218.099609</td>\n",
       "      <td>7641.500000</td>\n",
       "      <td>8099.899902</td>\n",
       "      <td>8036.594401</td>\n",
       "      <td>7841.838053</td>\n",
       "      <td>1</td>\n",
       "      <td>-0.042575</td>\n",
       "      <td>-0.042575</td>\n",
       "      <td>0.0</td>\n",
       "    </tr>\n",
       "    <tr>\n",
       "      <th>2007-10-18</th>\n",
       "      <td>23</td>\n",
       "      <td>8055.149902</td>\n",
       "      <td>8192.450195</td>\n",
       "      <td>7519.700195</td>\n",
       "      <td>7608.750000</td>\n",
       "      <td>8010.316623</td>\n",
       "      <td>7867.985677</td>\n",
       "      <td>1</td>\n",
       "      <td>-0.062553</td>\n",
       "      <td>-0.062553</td>\n",
       "      <td>0.0</td>\n",
       "    </tr>\n",
       "    <tr>\n",
       "      <th>2007-10-19</th>\n",
       "      <td>24</td>\n",
       "      <td>7637.399902</td>\n",
       "      <td>7718.899902</td>\n",
       "      <td>7279.299805</td>\n",
       "      <td>7423.799805</td>\n",
       "      <td>7987.805501</td>\n",
       "      <td>7869.030901</td>\n",
       "      <td>1</td>\n",
       "      <td>-0.024608</td>\n",
       "      <td>-0.024608</td>\n",
       "      <td>0.0</td>\n",
       "    </tr>\n",
       "    <tr>\n",
       "      <th>2007-10-22</th>\n",
       "      <td>25</td>\n",
       "      <td>7374.350098</td>\n",
       "      <td>7621.649902</td>\n",
       "      <td>7289.200195</td>\n",
       "      <td>7568.000000</td>\n",
       "      <td>7951.377713</td>\n",
       "      <td>7877.499953</td>\n",
       "      <td>1</td>\n",
       "      <td>0.019238</td>\n",
       "      <td>0.019238</td>\n",
       "      <td>0.0</td>\n",
       "    </tr>\n",
       "  </tbody>\n",
       "</table>\n",
       "</div>"
      ],
      "text/plain": [
       "            day         Open         High          Low        Close  \\\n",
       "Date                                                                  \n",
       "2007-10-16   21  8361.400391  8491.650391  8240.299805  8452.200195   \n",
       "2007-10-17   22  8071.549805  8218.099609  7641.500000  8099.899902   \n",
       "2007-10-18   23  8055.149902  8192.450195  7519.700195  7608.750000   \n",
       "2007-10-19   24  7637.399902  7718.899902  7279.299805  7423.799805   \n",
       "2007-10-22   25  7374.350098  7621.649902  7289.200195  7568.000000   \n",
       "\n",
       "                  9-day       21-day  signal    return  system_return  entry  \n",
       "Date                                                                          \n",
       "2007-10-16  8029.483290  7784.561872       1       NaN            NaN    NaN  \n",
       "2007-10-17  8036.594401  7841.838053       1 -0.042575      -0.042575    0.0  \n",
       "2007-10-18  8010.316623  7867.985677       1 -0.062553      -0.062553    0.0  \n",
       "2007-10-19  7987.805501  7869.030901       1 -0.024608      -0.024608    0.0  \n",
       "2007-10-22  7951.377713  7877.499953       1  0.019238       0.019238    0.0  "
      ]
     },
     "execution_count": 72,
     "metadata": {},
     "output_type": "execute_result"
    }
   ],
   "source": [
    "nfb['return'] = np.log(nfb['Close']).diff()\n",
    "nfb['system_return'] = nfb['signal'] * nfb['return']\n",
    "nfb['entry'] = nfb.signal.diff()\n",
    "nfb.head()"
   ]
  },
  {
   "cell_type": "markdown",
   "metadata": {},
   "source": [
    "#### Plotting the Trades on Time Series"
   ]
  },
  {
   "cell_type": "code",
   "execution_count": 73,
   "metadata": {},
   "outputs": [
    {
     "data": {
      "image/png": "[encoded data removed]",
      "text/plain": [
       "<Figure size 864x432 with 1 Axes>"
      ]
     },
     "metadata": {
      "needs_background": "light"
     },
     "output_type": "display_data"
    }
   ],
   "source": [
    "plt.rcParams['figure.figsize'] = 12, 6\n",
    "plt.grid(True, alpha = .3)\n",
    "plt.plot(nfb.iloc[-252:]['Close'], label = 'GLD')\n",
    "plt.plot(nfb.iloc[-252:]['9-day'], label = '9-day')\n",
    "plt.plot(nfb.iloc[-252:]['21-day'], label = '21-day')\n",
    "plt.plot(nfb[-252:].loc[nfb.entry == 2].index, nfb[-252:]['9-day'][nfb.entry == 2], '^',\n",
    "         color = 'g', markersize = 12)\n",
    "plt.plot(nfb[-252:].loc[nfb.entry == -2].index, nfb[-252:]['21-day'][nfb.entry == -2], 'v',\n",
    "         color = 'r', markersize = 12)\n",
    "plt.legend(loc=2);"
   ]
  },
  {
   "cell_type": "code",
   "execution_count": 74,
   "metadata": {},
   "outputs": [
    {
     "data": {
      "image/png": "[encoded data removed]",
      "text/plain": [
       "<Figure size 864x432 with 1 Axes>"
      ]
     },
     "metadata": {
      "needs_background": "light"
     },
     "output_type": "display_data"
    }
   ],
   "source": [
    "plt.plot(np.exp(nfb['return']).cumprod(), label='Buy/Hold')\n",
    "plt.plot(np.exp(nfb['system_return']).cumprod(), label='System')\n",
    "plt.legend(loc=2)\n",
    "plt.grid(True, alpha=.3)"
   ]
  },
  {
   "cell_type": "code",
   "execution_count": 75,
   "metadata": {},
   "outputs": [
    {
     "data": {
      "text/plain": [
       "4.659567884795192"
      ]
     },
     "execution_count": 75,
     "metadata": {},
     "output_type": "execute_result"
    }
   ],
   "source": [
    "np.exp(nfb['return']).cumprod()[-1] -1"
   ]
  },
  {
   "cell_type": "code",
   "execution_count": 76,
   "metadata": {},
   "outputs": [
    {
     "data": {
      "text/plain": [
       "20.299205747844788"
      ]
     },
     "execution_count": 76,
     "metadata": {},
     "output_type": "execute_result"
    }
   ],
   "source": [
    "np.exp(nfb['system_return']).cumprod()[-1] -1"
   ]
  },
  {
   "cell_type": "code",
   "execution_count": null,
   "metadata": {},
   "outputs": [],
   "source": []
  },
  {
   "cell_type": "code",
   "execution_count": null,
   "metadata": {},
   "outputs": [],
   "source": []
  },
  {
   "cell_type": "code",
   "execution_count": null,
   "metadata": {},
   "outputs": [],
   "source": []
  },
  {
   "cell_type": "code",
   "execution_count": null,
   "metadata": {},
   "outputs": [],
   "source": []
  },
  {
   "cell_type": "code",
   "execution_count": null,
   "metadata": {},
   "outputs": [],
   "source": []
  },
  {
   "cell_type": "code",
   "execution_count": null,
   "metadata": {},
   "outputs": [],
   "source": []
  }
 ],
 "metadata": {
  "kernelspec": {
   "display_name": "Python 3",
   "language": "python",
   "name": "python3"
  },
  "language_info": {
   "codemirror_mode": {
    "name": "ipython",
    "version": 3
   },
   "file_extension": ".py",
   "mimetype": "text/x-python",
   "name": "python",
   "nbconvert_exporter": "python",
   "pygments_lexer": "ipython3",
   "version": "3.9.12"
  }
 },
 "nbformat": 4,
 "nbformat_minor": 5
}
